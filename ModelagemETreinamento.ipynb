{
  "nbformat": 4,
  "nbformat_minor": 0,
  "metadata": {
    "colab": {
      "name": "ModelagemETreinamento.ipynb",
      "provenance": [],
      "collapsed_sections": [],
      "authorship_tag": "ABX9TyOZwvkp3LhMsw1VV4xsLjN5",
      "include_colab_link": true
    },
    "kernelspec": {
      "name": "python3",
      "display_name": "Python 3"
    }
  },
  "cells": [
    {
      "cell_type": "markdown",
      "metadata": {
        "id": "view-in-github",
        "colab_type": "text"
      },
      "source": [
        "<a href=\"https://colab.research.google.com/github/rodolfowenceslau/projetoenem/blob/master/ModelagemETreinamento.ipynb\" target=\"_parent\"><img src=\"https://colab.research.google.com/assets/colab-badge.svg\" alt=\"Open In Colab\"/></a>"
      ]
    },
    {
      "cell_type": "markdown",
      "metadata": {
        "id": "ZkU5aK007dPT",
        "colab_type": "text"
      },
      "source": [
        "# Instalando bibliotecas"
      ]
    },
    {
      "cell_type": "code",
      "metadata": {
        "id": "JnCdpqC5h9nd",
        "colab_type": "code",
        "colab": {
          "base_uri": "https://localhost:8080/",
          "height": 238
        },
        "outputId": "73d1d498-67cf-4123-f095-2bde31985449"
      },
      "source": [
        "#Realiza a instalação da versão mais recente da biblioteca scikit-learn\n",
        "!pip3 install -U scikit-learn"
      ],
      "execution_count": null,
      "outputs": [
        {
          "output_type": "stream",
          "text": [
            "Collecting scikit-learn\n",
            "\u001b[?25l  Downloading https://files.pythonhosted.org/packages/d9/3a/eb8d7bbe28f4787d140bb9df685b7d5bf6115c0e2a969def4027144e98b6/scikit_learn-0.23.1-cp36-cp36m-manylinux1_x86_64.whl (6.8MB)\n",
            "\u001b[K     |████████████████████████████████| 6.9MB 3.9MB/s \n",
            "\u001b[?25hRequirement already satisfied, skipping upgrade: joblib>=0.11 in /usr/local/lib/python3.6/dist-packages (from scikit-learn) (0.16.0)\n",
            "Requirement already satisfied, skipping upgrade: scipy>=0.19.1 in /usr/local/lib/python3.6/dist-packages (from scikit-learn) (1.4.1)\n",
            "Requirement already satisfied, skipping upgrade: numpy>=1.13.3 in /usr/local/lib/python3.6/dist-packages (from scikit-learn) (1.18.5)\n",
            "Collecting threadpoolctl>=2.0.0\n",
            "  Downloading https://files.pythonhosted.org/packages/f7/12/ec3f2e203afa394a149911729357aa48affc59c20e2c1c8297a60f33f133/threadpoolctl-2.1.0-py3-none-any.whl\n",
            "Installing collected packages: threadpoolctl, scikit-learn\n",
            "  Found existing installation: scikit-learn 0.22.2.post1\n",
            "    Uninstalling scikit-learn-0.22.2.post1:\n",
            "      Successfully uninstalled scikit-learn-0.22.2.post1\n",
            "Successfully installed scikit-learn-0.23.1 threadpoolctl-2.1.0\n"
          ],
          "name": "stdout"
        }
      ]
    },
    {
      "cell_type": "markdown",
      "metadata": {
        "id": "6C9EATUvG5uD",
        "colab_type": "text"
      },
      "source": [
        "# Importando bibliotecas"
      ]
    },
    {
      "cell_type": "code",
      "metadata": {
        "id": "TLcPY6bG2UAt",
        "colab_type": "code",
        "colab": {}
      },
      "source": [
        "#Manipulação de dados, DataFrames, arrays, matrizes...\n",
        "import pandas as pd\n",
        "import numpy as np\n",
        "\n",
        "#Montagem do GDRIVE\n",
        "from google.colab import drive\n",
        "\n",
        "#Modelos de classificação\n",
        "from sklearn.naive_bayes      import MultinomialNB\n",
        "from sklearn.dummy            import DummyClassifier\n",
        "from sklearn.neighbors        import KNeighborsClassifier\n",
        "from sklearn.ensemble         import RandomForestClassifier\n",
        "from sklearn.ensemble         import AdaBoostClassifier\n",
        "from sklearn.svm              import SVC\n",
        "from sklearn.gaussian_process import GaussianProcessClassifier\n",
        "\n",
        "#Métricas de validação dos modelos\n",
        "from sklearn.metrics import classification_report\n",
        "from sklearn.metrics import (auc, accuracy_score, confusion_matrix, roc_auc_score, roc_curve)\n",
        "\n",
        "#Pré-processamento\n",
        "import sklearn.model_selection\n",
        "from sklearn.preprocessing import LabelEncoder\n",
        "\n",
        "#Plotagem de gráficos\n",
        "import matplotlib.pyplot as plt\n",
        "import seaborn as sns"
      ],
      "execution_count": null,
      "outputs": []
    },
    {
      "cell_type": "markdown",
      "metadata": {
        "id": "y2HBJF5EHX3B",
        "colab_type": "text"
      },
      "source": [
        "# Montando o caminho do arquivo"
      ]
    },
    {
      "cell_type": "code",
      "metadata": {
        "id": "gK_Owpgd53lu",
        "colab_type": "code",
        "colab": {
          "base_uri": "https://localhost:8080/",
          "height": 122
        },
        "outputId": "34f4a36e-e0b5-4600-efee-beacc8fa099b"
      },
      "source": [
        "#Montar o Google Drive\n",
        "drive.mount('/content/drive/')\n",
        "\n",
        "#Montar o nome do caminho e arquivo no qual o dataset tratado do Enem foi salvo no drive\n",
        "caminhoDoArquivo = \"/content/drive/My Drive/Colab Notebooks/data/MICRODADOS_ENEM_2018_TRATADO_FINAL.csv\""
      ],
      "execution_count": null,
      "outputs": [
        {
          "output_type": "stream",
          "text": [
            "Go to this URL in a browser: https://accounts.google.com/o/oauth2/auth?client_id=947318989803-6bn6qk8qdgf4n4g3pfee6491hc0brc4i.apps.googleusercontent.com&redirect_uri=urn%3aietf%3awg%3aoauth%3a2.0%3aoob&response_type=code&scope=email%20https%3a%2f%2fwww.googleapis.com%2fauth%2fdocs.test%20https%3a%2f%2fwww.googleapis.com%2fauth%2fdrive%20https%3a%2f%2fwww.googleapis.com%2fauth%2fdrive.photos.readonly%20https%3a%2f%2fwww.googleapis.com%2fauth%2fpeopleapi.readonly\n",
            "\n",
            "Enter your authorization code:\n",
            "··········\n",
            "Mounted at /content/drive/\n"
          ],
          "name": "stdout"
        }
      ]
    },
    {
      "cell_type": "markdown",
      "metadata": {
        "id": "Bvc-paF_HhQS",
        "colab_type": "text"
      },
      "source": [
        "# Lendo o arquivo"
      ]
    },
    {
      "cell_type": "code",
      "metadata": {
        "id": "Jt1S4vr47Co8",
        "colab_type": "code",
        "colab": {}
      },
      "source": [
        "#Ler arquivo CSV do Enem para dentro da variável dataframe\n",
        "#Parâmetros:\n",
        "#   caminhoDoArquivo - localização do arquivo no Google Drive\n",
        "#   encoding - tipo de codificação que determina como os caracteres serão exibidos\n",
        "#   sep - caracter que separa as colunas do dataset\n",
        "dataframe = pd.read_csv(caminhoDoArquivo, encoding='utf-8', sep=',')"
      ],
      "execution_count": null,
      "outputs": []
    },
    {
      "cell_type": "code",
      "metadata": {
        "id": "wKi-DlgErpQi",
        "colab_type": "code",
        "colab": {
          "base_uri": "https://localhost:8080/",
          "height": 34
        },
        "outputId": "9b0a29d7-358a-4cd0-fcf4-1b2b3e3c6af0"
      },
      "source": [
        "#Propriedade que retorna uma tupla representando a dimensionalidade (quantidade de linhas e colunas) do DataFrame.\n",
        "dataframe.shape"
      ],
      "execution_count": null,
      "outputs": [
        {
          "output_type": "execute_result",
          "data": {
            "text/plain": [
              "(2226561, 42)"
            ]
          },
          "metadata": {
            "tags": []
          },
          "execution_count": 7
        }
      ]
    },
    {
      "cell_type": "code",
      "metadata": {
        "id": "Un8gbH5zrzrH",
        "colab_type": "code",
        "colab": {
          "base_uri": "https://localhost:8080/",
          "height": 439
        },
        "outputId": "0bf16218-684d-4614-e5fd-745032bf4b50"
      },
      "source": [
        "#Variável do tipo DataFrame mostrada abaixo para demonstrar como foi o resultado da leitura do CSV\n",
        "dataframe"
      ],
      "execution_count": null,
      "outputs": [
        {
          "output_type": "execute_result",
          "data": {
            "text/html": [
              "<div>\n",
              "<style scoped>\n",
              "    .dataframe tbody tr th:only-of-type {\n",
              "        vertical-align: middle;\n",
              "    }\n",
              "\n",
              "    .dataframe tbody tr th {\n",
              "        vertical-align: top;\n",
              "    }\n",
              "\n",
              "    .dataframe thead th {\n",
              "        text-align: right;\n",
              "    }\n",
              "</style>\n",
              "<table border=\"1\" class=\"dataframe\">\n",
              "  <thead>\n",
              "    <tr style=\"text-align: right;\">\n",
              "      <th></th>\n",
              "      <th>NO_MUNICIPIO_RESIDENCIA</th>\n",
              "      <th>SG_UF_RESIDENCIA</th>\n",
              "      <th>NU_IDADE</th>\n",
              "      <th>TP_SEXO</th>\n",
              "      <th>TP_COR_RACA</th>\n",
              "      <th>TP_NACIONALIDADE</th>\n",
              "      <th>TP_ST_CONCLUSAO</th>\n",
              "      <th>TP_ANO_CONCLUIU</th>\n",
              "      <th>TP_ESCOLA</th>\n",
              "      <th>IN_TREINEIRO</th>\n",
              "      <th>IN_MAQUINA_BRAILE</th>\n",
              "      <th>NO_MUNICIPIO_PROVA</th>\n",
              "      <th>SG_UF_PROVA</th>\n",
              "      <th>TP_LINGUA</th>\n",
              "      <th>Q001</th>\n",
              "      <th>Q002</th>\n",
              "      <th>Q003</th>\n",
              "      <th>Q004</th>\n",
              "      <th>Q005</th>\n",
              "      <th>Q006</th>\n",
              "      <th>Q007</th>\n",
              "      <th>Q008</th>\n",
              "      <th>Q009</th>\n",
              "      <th>Q010</th>\n",
              "      <th>Q011</th>\n",
              "      <th>Q012</th>\n",
              "      <th>Q013</th>\n",
              "      <th>Q014</th>\n",
              "      <th>Q015</th>\n",
              "      <th>Q016</th>\n",
              "      <th>Q017</th>\n",
              "      <th>Q018</th>\n",
              "      <th>Q019</th>\n",
              "      <th>Q020</th>\n",
              "      <th>Q021</th>\n",
              "      <th>Q022</th>\n",
              "      <th>Q023</th>\n",
              "      <th>Q024</th>\n",
              "      <th>Q025</th>\n",
              "      <th>Q026</th>\n",
              "      <th>Q027</th>\n",
              "      <th>PASSOU_ENEM</th>\n",
              "    </tr>\n",
              "  </thead>\n",
              "  <tbody>\n",
              "    <tr>\n",
              "      <th>0</th>\n",
              "      <td>São João dos Patos</td>\n",
              "      <td>MA</td>\n",
              "      <td>23.0</td>\n",
              "      <td>F</td>\n",
              "      <td>3</td>\n",
              "      <td>1</td>\n",
              "      <td>1</td>\n",
              "      <td>5</td>\n",
              "      <td>1</td>\n",
              "      <td>0</td>\n",
              "      <td>0</td>\n",
              "      <td>São João dos Patos</td>\n",
              "      <td>MA</td>\n",
              "      <td>0</td>\n",
              "      <td>B</td>\n",
              "      <td>B</td>\n",
              "      <td>A</td>\n",
              "      <td>A</td>\n",
              "      <td>4</td>\n",
              "      <td>B</td>\n",
              "      <td>A</td>\n",
              "      <td>B</td>\n",
              "      <td>C</td>\n",
              "      <td>A</td>\n",
              "      <td>A</td>\n",
              "      <td>B</td>\n",
              "      <td>A</td>\n",
              "      <td>A</td>\n",
              "      <td>A</td>\n",
              "      <td>A</td>\n",
              "      <td>A</td>\n",
              "      <td>A</td>\n",
              "      <td>B</td>\n",
              "      <td>A</td>\n",
              "      <td>A</td>\n",
              "      <td>B</td>\n",
              "      <td>A</td>\n",
              "      <td>A</td>\n",
              "      <td>A</td>\n",
              "      <td>A</td>\n",
              "      <td>A</td>\n",
              "      <td>Nao</td>\n",
              "    </tr>\n",
              "    <tr>\n",
              "      <th>1</th>\n",
              "      <td>João Pessoa</td>\n",
              "      <td>PB</td>\n",
              "      <td>23.0</td>\n",
              "      <td>F</td>\n",
              "      <td>1</td>\n",
              "      <td>1</td>\n",
              "      <td>1</td>\n",
              "      <td>5</td>\n",
              "      <td>1</td>\n",
              "      <td>0</td>\n",
              "      <td>0</td>\n",
              "      <td>João Pessoa</td>\n",
              "      <td>PB</td>\n",
              "      <td>1</td>\n",
              "      <td>C</td>\n",
              "      <td>D</td>\n",
              "      <td>C</td>\n",
              "      <td>B</td>\n",
              "      <td>1</td>\n",
              "      <td>B</td>\n",
              "      <td>A</td>\n",
              "      <td>B</td>\n",
              "      <td>C</td>\n",
              "      <td>A</td>\n",
              "      <td>A</td>\n",
              "      <td>B</td>\n",
              "      <td>A</td>\n",
              "      <td>B</td>\n",
              "      <td>A</td>\n",
              "      <td>B</td>\n",
              "      <td>A</td>\n",
              "      <td>A</td>\n",
              "      <td>B</td>\n",
              "      <td>A</td>\n",
              "      <td>A</td>\n",
              "      <td>B</td>\n",
              "      <td>A</td>\n",
              "      <td>B</td>\n",
              "      <td>B</td>\n",
              "      <td>A</td>\n",
              "      <td>A</td>\n",
              "      <td>Nao</td>\n",
              "    </tr>\n",
              "    <tr>\n",
              "      <th>2</th>\n",
              "      <td>Parnaíba</td>\n",
              "      <td>PI</td>\n",
              "      <td>39.0</td>\n",
              "      <td>M</td>\n",
              "      <td>3</td>\n",
              "      <td>1</td>\n",
              "      <td>1</td>\n",
              "      <td>12</td>\n",
              "      <td>1</td>\n",
              "      <td>0</td>\n",
              "      <td>0</td>\n",
              "      <td>Parnaíba</td>\n",
              "      <td>PI</td>\n",
              "      <td>0</td>\n",
              "      <td>A</td>\n",
              "      <td>E</td>\n",
              "      <td>A</td>\n",
              "      <td>D</td>\n",
              "      <td>4</td>\n",
              "      <td>H</td>\n",
              "      <td>A</td>\n",
              "      <td>B</td>\n",
              "      <td>C</td>\n",
              "      <td>A</td>\n",
              "      <td>A</td>\n",
              "      <td>B</td>\n",
              "      <td>A</td>\n",
              "      <td>A</td>\n",
              "      <td>A</td>\n",
              "      <td>A</td>\n",
              "      <td>A</td>\n",
              "      <td>A</td>\n",
              "      <td>C</td>\n",
              "      <td>B</td>\n",
              "      <td>A</td>\n",
              "      <td>B</td>\n",
              "      <td>A</td>\n",
              "      <td>B</td>\n",
              "      <td>B</td>\n",
              "      <td>A</td>\n",
              "      <td>A</td>\n",
              "      <td>Sim</td>\n",
              "    </tr>\n",
              "    <tr>\n",
              "      <th>3</th>\n",
              "      <td>Fortaleza</td>\n",
              "      <td>CE</td>\n",
              "      <td>19.0</td>\n",
              "      <td>M</td>\n",
              "      <td>3</td>\n",
              "      <td>1</td>\n",
              "      <td>2</td>\n",
              "      <td>0</td>\n",
              "      <td>2</td>\n",
              "      <td>0</td>\n",
              "      <td>0</td>\n",
              "      <td>Fortaleza</td>\n",
              "      <td>CE</td>\n",
              "      <td>0</td>\n",
              "      <td>D</td>\n",
              "      <td>D</td>\n",
              "      <td>C</td>\n",
              "      <td>B</td>\n",
              "      <td>7</td>\n",
              "      <td>C</td>\n",
              "      <td>A</td>\n",
              "      <td>B</td>\n",
              "      <td>C</td>\n",
              "      <td>A</td>\n",
              "      <td>A</td>\n",
              "      <td>B</td>\n",
              "      <td>A</td>\n",
              "      <td>B</td>\n",
              "      <td>A</td>\n",
              "      <td>A</td>\n",
              "      <td>A</td>\n",
              "      <td>A</td>\n",
              "      <td>B</td>\n",
              "      <td>B</td>\n",
              "      <td>A</td>\n",
              "      <td>B</td>\n",
              "      <td>A</td>\n",
              "      <td>A</td>\n",
              "      <td>A</td>\n",
              "      <td>B</td>\n",
              "      <td>A</td>\n",
              "      <td>Nao</td>\n",
              "    </tr>\n",
              "    <tr>\n",
              "      <th>4</th>\n",
              "      <td>Cuiabá</td>\n",
              "      <td>MT</td>\n",
              "      <td>25.0</td>\n",
              "      <td>F</td>\n",
              "      <td>3</td>\n",
              "      <td>1</td>\n",
              "      <td>1</td>\n",
              "      <td>9</td>\n",
              "      <td>1</td>\n",
              "      <td>0</td>\n",
              "      <td>0</td>\n",
              "      <td>Cuiabá</td>\n",
              "      <td>MT</td>\n",
              "      <td>1</td>\n",
              "      <td>C</td>\n",
              "      <td>C</td>\n",
              "      <td>C</td>\n",
              "      <td>B</td>\n",
              "      <td>1</td>\n",
              "      <td>C</td>\n",
              "      <td>A</td>\n",
              "      <td>B</td>\n",
              "      <td>B</td>\n",
              "      <td>A</td>\n",
              "      <td>A</td>\n",
              "      <td>B</td>\n",
              "      <td>A</td>\n",
              "      <td>A</td>\n",
              "      <td>A</td>\n",
              "      <td>A</td>\n",
              "      <td>A</td>\n",
              "      <td>A</td>\n",
              "      <td>B</td>\n",
              "      <td>A</td>\n",
              "      <td>A</td>\n",
              "      <td>B</td>\n",
              "      <td>A</td>\n",
              "      <td>A</td>\n",
              "      <td>A</td>\n",
              "      <td>A</td>\n",
              "      <td>A</td>\n",
              "      <td>Sim</td>\n",
              "    </tr>\n",
              "    <tr>\n",
              "      <th>...</th>\n",
              "      <td>...</td>\n",
              "      <td>...</td>\n",
              "      <td>...</td>\n",
              "      <td>...</td>\n",
              "      <td>...</td>\n",
              "      <td>...</td>\n",
              "      <td>...</td>\n",
              "      <td>...</td>\n",
              "      <td>...</td>\n",
              "      <td>...</td>\n",
              "      <td>...</td>\n",
              "      <td>...</td>\n",
              "      <td>...</td>\n",
              "      <td>...</td>\n",
              "      <td>...</td>\n",
              "      <td>...</td>\n",
              "      <td>...</td>\n",
              "      <td>...</td>\n",
              "      <td>...</td>\n",
              "      <td>...</td>\n",
              "      <td>...</td>\n",
              "      <td>...</td>\n",
              "      <td>...</td>\n",
              "      <td>...</td>\n",
              "      <td>...</td>\n",
              "      <td>...</td>\n",
              "      <td>...</td>\n",
              "      <td>...</td>\n",
              "      <td>...</td>\n",
              "      <td>...</td>\n",
              "      <td>...</td>\n",
              "      <td>...</td>\n",
              "      <td>...</td>\n",
              "      <td>...</td>\n",
              "      <td>...</td>\n",
              "      <td>...</td>\n",
              "      <td>...</td>\n",
              "      <td>...</td>\n",
              "      <td>...</td>\n",
              "      <td>...</td>\n",
              "      <td>...</td>\n",
              "      <td>...</td>\n",
              "    </tr>\n",
              "    <tr>\n",
              "      <th>2226556</th>\n",
              "      <td>Curitiba</td>\n",
              "      <td>PR</td>\n",
              "      <td>17.0</td>\n",
              "      <td>F</td>\n",
              "      <td>1</td>\n",
              "      <td>1</td>\n",
              "      <td>2</td>\n",
              "      <td>0</td>\n",
              "      <td>4</td>\n",
              "      <td>0</td>\n",
              "      <td>0</td>\n",
              "      <td>Curitiba</td>\n",
              "      <td>PR</td>\n",
              "      <td>0</td>\n",
              "      <td>G</td>\n",
              "      <td>F</td>\n",
              "      <td>D</td>\n",
              "      <td>D</td>\n",
              "      <td>4</td>\n",
              "      <td>L</td>\n",
              "      <td>A</td>\n",
              "      <td>C</td>\n",
              "      <td>D</td>\n",
              "      <td>C</td>\n",
              "      <td>A</td>\n",
              "      <td>B</td>\n",
              "      <td>A</td>\n",
              "      <td>B</td>\n",
              "      <td>A</td>\n",
              "      <td>B</td>\n",
              "      <td>A</td>\n",
              "      <td>B</td>\n",
              "      <td>B</td>\n",
              "      <td>B</td>\n",
              "      <td>B</td>\n",
              "      <td>E</td>\n",
              "      <td>B</td>\n",
              "      <td>B</td>\n",
              "      <td>B</td>\n",
              "      <td>B</td>\n",
              "      <td>D</td>\n",
              "      <td>Sim</td>\n",
              "    </tr>\n",
              "    <tr>\n",
              "      <th>2226557</th>\n",
              "      <td>São Paulo</td>\n",
              "      <td>SP</td>\n",
              "      <td>20.0</td>\n",
              "      <td>F</td>\n",
              "      <td>2</td>\n",
              "      <td>1</td>\n",
              "      <td>1</td>\n",
              "      <td>2</td>\n",
              "      <td>1</td>\n",
              "      <td>0</td>\n",
              "      <td>0</td>\n",
              "      <td>São Paulo</td>\n",
              "      <td>SP</td>\n",
              "      <td>0</td>\n",
              "      <td>B</td>\n",
              "      <td>F</td>\n",
              "      <td>C</td>\n",
              "      <td>D</td>\n",
              "      <td>4</td>\n",
              "      <td>G</td>\n",
              "      <td>A</td>\n",
              "      <td>B</td>\n",
              "      <td>C</td>\n",
              "      <td>B</td>\n",
              "      <td>A</td>\n",
              "      <td>B</td>\n",
              "      <td>A</td>\n",
              "      <td>A</td>\n",
              "      <td>A</td>\n",
              "      <td>B</td>\n",
              "      <td>A</td>\n",
              "      <td>A</td>\n",
              "      <td>B</td>\n",
              "      <td>B</td>\n",
              "      <td>B</td>\n",
              "      <td>D</td>\n",
              "      <td>B</td>\n",
              "      <td>A</td>\n",
              "      <td>B</td>\n",
              "      <td>A</td>\n",
              "      <td>A</td>\n",
              "      <td>Sim</td>\n",
              "    </tr>\n",
              "    <tr>\n",
              "      <th>2226558</th>\n",
              "      <td>Blumenau</td>\n",
              "      <td>SC</td>\n",
              "      <td>18.0</td>\n",
              "      <td>M</td>\n",
              "      <td>1</td>\n",
              "      <td>1</td>\n",
              "      <td>2</td>\n",
              "      <td>0</td>\n",
              "      <td>2</td>\n",
              "      <td>0</td>\n",
              "      <td>0</td>\n",
              "      <td>Blumenau</td>\n",
              "      <td>SC</td>\n",
              "      <td>1</td>\n",
              "      <td>C</td>\n",
              "      <td>C</td>\n",
              "      <td>D</td>\n",
              "      <td>B</td>\n",
              "      <td>5</td>\n",
              "      <td>D</td>\n",
              "      <td>A</td>\n",
              "      <td>B</td>\n",
              "      <td>C</td>\n",
              "      <td>B</td>\n",
              "      <td>A</td>\n",
              "      <td>B</td>\n",
              "      <td>A</td>\n",
              "      <td>B</td>\n",
              "      <td>A</td>\n",
              "      <td>B</td>\n",
              "      <td>A</td>\n",
              "      <td>A</td>\n",
              "      <td>B</td>\n",
              "      <td>B</td>\n",
              "      <td>B</td>\n",
              "      <td>D</td>\n",
              "      <td>B</td>\n",
              "      <td>A</td>\n",
              "      <td>B</td>\n",
              "      <td>B</td>\n",
              "      <td>A</td>\n",
              "      <td>Sim</td>\n",
              "    </tr>\n",
              "    <tr>\n",
              "      <th>2226559</th>\n",
              "      <td>São Paulo</td>\n",
              "      <td>SP</td>\n",
              "      <td>18.0</td>\n",
              "      <td>M</td>\n",
              "      <td>1</td>\n",
              "      <td>1</td>\n",
              "      <td>1</td>\n",
              "      <td>1</td>\n",
              "      <td>1</td>\n",
              "      <td>0</td>\n",
              "      <td>0</td>\n",
              "      <td>São Paulo</td>\n",
              "      <td>SP</td>\n",
              "      <td>0</td>\n",
              "      <td>D</td>\n",
              "      <td>C</td>\n",
              "      <td>D</td>\n",
              "      <td>B</td>\n",
              "      <td>2</td>\n",
              "      <td>B</td>\n",
              "      <td>A</td>\n",
              "      <td>B</td>\n",
              "      <td>B</td>\n",
              "      <td>A</td>\n",
              "      <td>A</td>\n",
              "      <td>B</td>\n",
              "      <td>A</td>\n",
              "      <td>B</td>\n",
              "      <td>A</td>\n",
              "      <td>A</td>\n",
              "      <td>A</td>\n",
              "      <td>A</td>\n",
              "      <td>B</td>\n",
              "      <td>A</td>\n",
              "      <td>A</td>\n",
              "      <td>C</td>\n",
              "      <td>A</td>\n",
              "      <td>A</td>\n",
              "      <td>B</td>\n",
              "      <td>A</td>\n",
              "      <td>D</td>\n",
              "      <td>Nao</td>\n",
              "    </tr>\n",
              "    <tr>\n",
              "      <th>2226560</th>\n",
              "      <td>Itajubá</td>\n",
              "      <td>MG</td>\n",
              "      <td>18.0</td>\n",
              "      <td>F</td>\n",
              "      <td>1</td>\n",
              "      <td>1</td>\n",
              "      <td>2</td>\n",
              "      <td>0</td>\n",
              "      <td>2</td>\n",
              "      <td>0</td>\n",
              "      <td>0</td>\n",
              "      <td>Itajubá</td>\n",
              "      <td>MG</td>\n",
              "      <td>0</td>\n",
              "      <td>C</td>\n",
              "      <td>C</td>\n",
              "      <td>B</td>\n",
              "      <td>B</td>\n",
              "      <td>4</td>\n",
              "      <td>C</td>\n",
              "      <td>A</td>\n",
              "      <td>B</td>\n",
              "      <td>C</td>\n",
              "      <td>A</td>\n",
              "      <td>A</td>\n",
              "      <td>B</td>\n",
              "      <td>A</td>\n",
              "      <td>A</td>\n",
              "      <td>A</td>\n",
              "      <td>A</td>\n",
              "      <td>A</td>\n",
              "      <td>A</td>\n",
              "      <td>B</td>\n",
              "      <td>A</td>\n",
              "      <td>A</td>\n",
              "      <td>B</td>\n",
              "      <td>A</td>\n",
              "      <td>A</td>\n",
              "      <td>A</td>\n",
              "      <td>B</td>\n",
              "      <td>A</td>\n",
              "      <td>Sim</td>\n",
              "    </tr>\n",
              "  </tbody>\n",
              "</table>\n",
              "<p>2226561 rows × 42 columns</p>\n",
              "</div>"
            ],
            "text/plain": [
              "        NO_MUNICIPIO_RESIDENCIA SG_UF_RESIDENCIA  ...  Q027 PASSOU_ENEM\n",
              "0            São João dos Patos               MA  ...     A         Nao\n",
              "1                   João Pessoa               PB  ...     A         Nao\n",
              "2                      Parnaíba               PI  ...     A         Sim\n",
              "3                     Fortaleza               CE  ...     A         Nao\n",
              "4                        Cuiabá               MT  ...     A         Sim\n",
              "...                         ...              ...  ...   ...         ...\n",
              "2226556                Curitiba               PR  ...     D         Sim\n",
              "2226557               São Paulo               SP  ...     A         Sim\n",
              "2226558                Blumenau               SC  ...     A         Sim\n",
              "2226559               São Paulo               SP  ...     D         Nao\n",
              "2226560                 Itajubá               MG  ...     A         Sim\n",
              "\n",
              "[2226561 rows x 42 columns]"
            ]
          },
          "metadata": {
            "tags": []
          },
          "execution_count": 7
        }
      ]
    },
    {
      "cell_type": "markdown",
      "metadata": {
        "id": "q56_b1FDwb50",
        "colab_type": "text"
      },
      "source": [
        "# Transformando os tipos das colunas através do Label Encoder"
      ]
    },
    {
      "cell_type": "code",
      "metadata": {
        "id": "e0YwoNxpwn_D",
        "colab_type": "code",
        "colab": {
          "base_uri": "https://localhost:8080/",
          "height": 748
        },
        "outputId": "6a4580d1-6333-4321-89b7-e68535e269b2"
      },
      "source": [
        "#Propriedade dtpes retorna os tipos de dados de cada um dos atributos do dataset\n",
        "dataframe.dtypes"
      ],
      "execution_count": null,
      "outputs": [
        {
          "output_type": "execute_result",
          "data": {
            "text/plain": [
              "NO_MUNICIPIO_RESIDENCIA     object\n",
              "SG_UF_RESIDENCIA            object\n",
              "NU_IDADE                   float64\n",
              "TP_SEXO                     object\n",
              "TP_COR_RACA                  int64\n",
              "TP_NACIONALIDADE             int64\n",
              "TP_ST_CONCLUSAO              int64\n",
              "TP_ANO_CONCLUIU              int64\n",
              "TP_ESCOLA                    int64\n",
              "IN_TREINEIRO                 int64\n",
              "IN_MAQUINA_BRAILE            int64\n",
              "NO_MUNICIPIO_PROVA          object\n",
              "SG_UF_PROVA                 object\n",
              "TP_LINGUA                    int64\n",
              "Q001                        object\n",
              "Q002                        object\n",
              "Q003                        object\n",
              "Q004                        object\n",
              "Q005                         int64\n",
              "Q006                        object\n",
              "Q007                        object\n",
              "Q008                        object\n",
              "Q009                        object\n",
              "Q010                        object\n",
              "Q011                        object\n",
              "Q012                        object\n",
              "Q013                        object\n",
              "Q014                        object\n",
              "Q015                        object\n",
              "Q016                        object\n",
              "Q017                        object\n",
              "Q018                        object\n",
              "Q019                        object\n",
              "Q020                        object\n",
              "Q021                        object\n",
              "Q022                        object\n",
              "Q023                        object\n",
              "Q024                        object\n",
              "Q025                        object\n",
              "Q026                        object\n",
              "Q027                        object\n",
              "PASSOU_ENEM                 object\n",
              "dtype: object"
            ]
          },
          "metadata": {
            "tags": []
          },
          "execution_count": 6
        }
      ]
    },
    {
      "cell_type": "code",
      "metadata": {
        "id": "ThCjaHsXwOWI",
        "colab_type": "code",
        "colab": {}
      },
      "source": [
        "#Funçao que codifica as colunas do DataFrame alterando o tipo das variáveis object para numérico\n",
        "#A maioria dos algoritmos trabalha com valores numéricos, portanto, a conversão/codificação dos tipos\n",
        "#foi uma estratégia para facilitar o uso dos algoritmos.\n",
        "#Parâmetro:\n",
        "#   dataframe - variável do tipo DataFrame\n",
        "def codificarColunas(dataframe):\n",
        "  label_encoders = {} # Cria um dicionário para guardar cada label encoder e permitir o processo inverso\n",
        "  for col in dataframe.select_dtypes('object'): # Para cada uma das colunas do tipo object\n",
        "      label_encoder = LabelEncoder() # Cria um label encoder\n",
        "      label_encoder.fit(dataframe[col]) # \"Treina\" o label encoder \n",
        "      dataframe[col] = label_encoder.transform(dataframe[col]) # Realiza o processo de codificação da string para o código\n",
        "      label_encoders[col] = label_encoder # Salva o label encoder treinado\n",
        "  #print(csv.dtypes)\n",
        "  return dataframe"
      ],
      "execution_count": null,
      "outputs": []
    },
    {
      "cell_type": "code",
      "metadata": {
        "id": "1hgNlOE9w_hQ",
        "colab_type": "code",
        "colab": {
          "base_uri": "https://localhost:8080/",
          "height": 748
        },
        "outputId": "659a0f0f-ad99-472d-f672-40eaffd68c0c"
      },
      "source": [
        "#Realiza a chamada para a função criada anteriormente, atribuindo o valor retornado para a nova variável \"enemCodificado\"\n",
        "enemCodificado = codificarColunas(dataframe)\n",
        "enemCodificado.dtypes"
      ],
      "execution_count": null,
      "outputs": [
        {
          "output_type": "execute_result",
          "data": {
            "text/plain": [
              "NO_MUNICIPIO_RESIDENCIA      int64\n",
              "SG_UF_RESIDENCIA             int64\n",
              "NU_IDADE                   float64\n",
              "TP_SEXO                      int64\n",
              "TP_COR_RACA                  int64\n",
              "TP_NACIONALIDADE             int64\n",
              "TP_ST_CONCLUSAO              int64\n",
              "TP_ANO_CONCLUIU              int64\n",
              "TP_ESCOLA                    int64\n",
              "IN_TREINEIRO                 int64\n",
              "IN_MAQUINA_BRAILE            int64\n",
              "NO_MUNICIPIO_PROVA           int64\n",
              "SG_UF_PROVA                  int64\n",
              "TP_LINGUA                    int64\n",
              "Q001                         int64\n",
              "Q002                         int64\n",
              "Q003                         int64\n",
              "Q004                         int64\n",
              "Q005                         int64\n",
              "Q006                         int64\n",
              "Q007                         int64\n",
              "Q008                         int64\n",
              "Q009                         int64\n",
              "Q010                         int64\n",
              "Q011                         int64\n",
              "Q012                         int64\n",
              "Q013                         int64\n",
              "Q014                         int64\n",
              "Q015                         int64\n",
              "Q016                         int64\n",
              "Q017                         int64\n",
              "Q018                         int64\n",
              "Q019                         int64\n",
              "Q020                         int64\n",
              "Q021                         int64\n",
              "Q022                         int64\n",
              "Q023                         int64\n",
              "Q024                         int64\n",
              "Q025                         int64\n",
              "Q026                         int64\n",
              "Q027                         int64\n",
              "PASSOU_ENEM                  int64\n",
              "dtype: object"
            ]
          },
          "metadata": {
            "tags": []
          },
          "execution_count": 9
        }
      ]
    },
    {
      "cell_type": "markdown",
      "metadata": {
        "id": "T5f6j3GCgmKS",
        "colab_type": "text"
      },
      "source": [
        "#Criação das variáveis X e y (alvo)"
      ]
    },
    {
      "cell_type": "markdown",
      "metadata": {
        "id": "kbpKYIOmqxou",
        "colab_type": "text"
      },
      "source": [
        "## Criação da variável y (atributo alvo) e atribuição da coluna PASSOU_ENEM para ela"
      ]
    },
    {
      "cell_type": "code",
      "metadata": {
        "id": "nhk6hswpf-7X",
        "colab_type": "code",
        "colab": {
          "base_uri": "https://localhost:8080/",
          "height": 221
        },
        "outputId": "b739615a-e910-45ea-94a4-179b6d183246"
      },
      "source": [
        "#A separação do alvo é essencial para possibilitar o treinamento e teste dos modelos nas etapas posteriores\n",
        "y = enemCodificado.PASSOU_ENEM\n",
        "y"
      ],
      "execution_count": null,
      "outputs": [
        {
          "output_type": "execute_result",
          "data": {
            "text/plain": [
              "0          0\n",
              "1          0\n",
              "2          1\n",
              "3          0\n",
              "4          1\n",
              "          ..\n",
              "2226556    1\n",
              "2226557    1\n",
              "2226558    1\n",
              "2226559    0\n",
              "2226560    1\n",
              "Name: PASSOU_ENEM, Length: 2226561, dtype: int64"
            ]
          },
          "metadata": {
            "tags": []
          },
          "execution_count": 10
        }
      ]
    },
    {
      "cell_type": "markdown",
      "metadata": {
        "id": "w5HoQNC3gs01",
        "colab_type": "text"
      },
      "source": [
        "##Criação da variável X que recebe o dataframe sem o atributo alvo PASSOU_ENEM"
      ]
    },
    {
      "cell_type": "code",
      "metadata": {
        "id": "WD7TEcZwgDKi",
        "colab_type": "code",
        "colab": {
          "base_uri": "https://localhost:8080/",
          "height": 439
        },
        "outputId": "7abee48f-747e-4713-d1b8-0f1d6de7f4cf"
      },
      "source": [
        "#X recebe o dataframe restante (todas as colunas), com exceção da coluna PASSOU_ENEM que foi atribuída para y\n",
        "#No código abaixo utilizou-se a função drop para apagar a coluna PASSOU_ENEM, a função retorna um DataFrame sem a coluna indicada que foi removida durante a tarefa\n",
        "X = enemCodificado.drop(columns=\"PASSOU_ENEM\")\n",
        "X"
      ],
      "execution_count": null,
      "outputs": [
        {
          "output_type": "execute_result",
          "data": {
            "text/html": [
              "<div>\n",
              "<style scoped>\n",
              "    .dataframe tbody tr th:only-of-type {\n",
              "        vertical-align: middle;\n",
              "    }\n",
              "\n",
              "    .dataframe tbody tr th {\n",
              "        vertical-align: top;\n",
              "    }\n",
              "\n",
              "    .dataframe thead th {\n",
              "        text-align: right;\n",
              "    }\n",
              "</style>\n",
              "<table border=\"1\" class=\"dataframe\">\n",
              "  <thead>\n",
              "    <tr style=\"text-align: right;\">\n",
              "      <th></th>\n",
              "      <th>NO_MUNICIPIO_RESIDENCIA</th>\n",
              "      <th>SG_UF_RESIDENCIA</th>\n",
              "      <th>NU_IDADE</th>\n",
              "      <th>TP_SEXO</th>\n",
              "      <th>TP_COR_RACA</th>\n",
              "      <th>TP_NACIONALIDADE</th>\n",
              "      <th>TP_ST_CONCLUSAO</th>\n",
              "      <th>TP_ANO_CONCLUIU</th>\n",
              "      <th>TP_ESCOLA</th>\n",
              "      <th>IN_TREINEIRO</th>\n",
              "      <th>IN_MAQUINA_BRAILE</th>\n",
              "      <th>NO_MUNICIPIO_PROVA</th>\n",
              "      <th>SG_UF_PROVA</th>\n",
              "      <th>TP_LINGUA</th>\n",
              "      <th>Q001</th>\n",
              "      <th>Q002</th>\n",
              "      <th>Q003</th>\n",
              "      <th>Q004</th>\n",
              "      <th>Q005</th>\n",
              "      <th>Q006</th>\n",
              "      <th>Q007</th>\n",
              "      <th>Q008</th>\n",
              "      <th>Q009</th>\n",
              "      <th>Q010</th>\n",
              "      <th>Q011</th>\n",
              "      <th>Q012</th>\n",
              "      <th>Q013</th>\n",
              "      <th>Q014</th>\n",
              "      <th>Q015</th>\n",
              "      <th>Q016</th>\n",
              "      <th>Q017</th>\n",
              "      <th>Q018</th>\n",
              "      <th>Q019</th>\n",
              "      <th>Q020</th>\n",
              "      <th>Q021</th>\n",
              "      <th>Q022</th>\n",
              "      <th>Q023</th>\n",
              "      <th>Q024</th>\n",
              "      <th>Q025</th>\n",
              "      <th>Q026</th>\n",
              "      <th>Q027</th>\n",
              "    </tr>\n",
              "  </thead>\n",
              "  <tbody>\n",
              "    <tr>\n",
              "      <th>0</th>\n",
              "      <td>4704</td>\n",
              "      <td>9</td>\n",
              "      <td>23.0</td>\n",
              "      <td>0</td>\n",
              "      <td>3</td>\n",
              "      <td>1</td>\n",
              "      <td>1</td>\n",
              "      <td>5</td>\n",
              "      <td>1</td>\n",
              "      <td>0</td>\n",
              "      <td>0</td>\n",
              "      <td>1488</td>\n",
              "      <td>9</td>\n",
              "      <td>0</td>\n",
              "      <td>1</td>\n",
              "      <td>1</td>\n",
              "      <td>0</td>\n",
              "      <td>0</td>\n",
              "      <td>4</td>\n",
              "      <td>1</td>\n",
              "      <td>0</td>\n",
              "      <td>1</td>\n",
              "      <td>2</td>\n",
              "      <td>0</td>\n",
              "      <td>0</td>\n",
              "      <td>1</td>\n",
              "      <td>0</td>\n",
              "      <td>0</td>\n",
              "      <td>0</td>\n",
              "      <td>0</td>\n",
              "      <td>0</td>\n",
              "      <td>0</td>\n",
              "      <td>1</td>\n",
              "      <td>0</td>\n",
              "      <td>0</td>\n",
              "      <td>1</td>\n",
              "      <td>0</td>\n",
              "      <td>0</td>\n",
              "      <td>0</td>\n",
              "      <td>0</td>\n",
              "      <td>0</td>\n",
              "    </tr>\n",
              "    <tr>\n",
              "      <th>1</th>\n",
              "      <td>2469</td>\n",
              "      <td>14</td>\n",
              "      <td>23.0</td>\n",
              "      <td>0</td>\n",
              "      <td>1</td>\n",
              "      <td>1</td>\n",
              "      <td>1</td>\n",
              "      <td>5</td>\n",
              "      <td>1</td>\n",
              "      <td>0</td>\n",
              "      <td>0</td>\n",
              "      <td>814</td>\n",
              "      <td>14</td>\n",
              "      <td>1</td>\n",
              "      <td>2</td>\n",
              "      <td>3</td>\n",
              "      <td>2</td>\n",
              "      <td>1</td>\n",
              "      <td>1</td>\n",
              "      <td>1</td>\n",
              "      <td>0</td>\n",
              "      <td>1</td>\n",
              "      <td>2</td>\n",
              "      <td>0</td>\n",
              "      <td>0</td>\n",
              "      <td>1</td>\n",
              "      <td>0</td>\n",
              "      <td>1</td>\n",
              "      <td>0</td>\n",
              "      <td>1</td>\n",
              "      <td>0</td>\n",
              "      <td>0</td>\n",
              "      <td>1</td>\n",
              "      <td>0</td>\n",
              "      <td>0</td>\n",
              "      <td>1</td>\n",
              "      <td>0</td>\n",
              "      <td>1</td>\n",
              "      <td>1</td>\n",
              "      <td>0</td>\n",
              "      <td>0</td>\n",
              "    </tr>\n",
              "    <tr>\n",
              "      <th>2</th>\n",
              "      <td>3432</td>\n",
              "      <td>16</td>\n",
              "      <td>39.0</td>\n",
              "      <td>1</td>\n",
              "      <td>3</td>\n",
              "      <td>1</td>\n",
              "      <td>1</td>\n",
              "      <td>12</td>\n",
              "      <td>1</td>\n",
              "      <td>0</td>\n",
              "      <td>0</td>\n",
              "      <td>1117</td>\n",
              "      <td>16</td>\n",
              "      <td>0</td>\n",
              "      <td>0</td>\n",
              "      <td>4</td>\n",
              "      <td>0</td>\n",
              "      <td>3</td>\n",
              "      <td>4</td>\n",
              "      <td>7</td>\n",
              "      <td>0</td>\n",
              "      <td>1</td>\n",
              "      <td>2</td>\n",
              "      <td>0</td>\n",
              "      <td>0</td>\n",
              "      <td>1</td>\n",
              "      <td>0</td>\n",
              "      <td>0</td>\n",
              "      <td>0</td>\n",
              "      <td>0</td>\n",
              "      <td>0</td>\n",
              "      <td>0</td>\n",
              "      <td>2</td>\n",
              "      <td>1</td>\n",
              "      <td>0</td>\n",
              "      <td>1</td>\n",
              "      <td>0</td>\n",
              "      <td>1</td>\n",
              "      <td>1</td>\n",
              "      <td>0</td>\n",
              "      <td>0</td>\n",
              "    </tr>\n",
              "    <tr>\n",
              "      <th>3</th>\n",
              "      <td>1710</td>\n",
              "      <td>5</td>\n",
              "      <td>19.0</td>\n",
              "      <td>1</td>\n",
              "      <td>3</td>\n",
              "      <td>1</td>\n",
              "      <td>2</td>\n",
              "      <td>0</td>\n",
              "      <td>2</td>\n",
              "      <td>0</td>\n",
              "      <td>0</td>\n",
              "      <td>567</td>\n",
              "      <td>5</td>\n",
              "      <td>0</td>\n",
              "      <td>3</td>\n",
              "      <td>3</td>\n",
              "      <td>2</td>\n",
              "      <td>1</td>\n",
              "      <td>7</td>\n",
              "      <td>2</td>\n",
              "      <td>0</td>\n",
              "      <td>1</td>\n",
              "      <td>2</td>\n",
              "      <td>0</td>\n",
              "      <td>0</td>\n",
              "      <td>1</td>\n",
              "      <td>0</td>\n",
              "      <td>1</td>\n",
              "      <td>0</td>\n",
              "      <td>0</td>\n",
              "      <td>0</td>\n",
              "      <td>0</td>\n",
              "      <td>1</td>\n",
              "      <td>1</td>\n",
              "      <td>0</td>\n",
              "      <td>1</td>\n",
              "      <td>0</td>\n",
              "      <td>0</td>\n",
              "      <td>0</td>\n",
              "      <td>1</td>\n",
              "      <td>0</td>\n",
              "    </tr>\n",
              "    <tr>\n",
              "      <th>4</th>\n",
              "      <td>1368</td>\n",
              "      <td>12</td>\n",
              "      <td>25.0</td>\n",
              "      <td>0</td>\n",
              "      <td>3</td>\n",
              "      <td>1</td>\n",
              "      <td>1</td>\n",
              "      <td>9</td>\n",
              "      <td>1</td>\n",
              "      <td>0</td>\n",
              "      <td>0</td>\n",
              "      <td>476</td>\n",
              "      <td>12</td>\n",
              "      <td>1</td>\n",
              "      <td>2</td>\n",
              "      <td>2</td>\n",
              "      <td>2</td>\n",
              "      <td>1</td>\n",
              "      <td>1</td>\n",
              "      <td>2</td>\n",
              "      <td>0</td>\n",
              "      <td>1</td>\n",
              "      <td>1</td>\n",
              "      <td>0</td>\n",
              "      <td>0</td>\n",
              "      <td>1</td>\n",
              "      <td>0</td>\n",
              "      <td>0</td>\n",
              "      <td>0</td>\n",
              "      <td>0</td>\n",
              "      <td>0</td>\n",
              "      <td>0</td>\n",
              "      <td>1</td>\n",
              "      <td>0</td>\n",
              "      <td>0</td>\n",
              "      <td>1</td>\n",
              "      <td>0</td>\n",
              "      <td>0</td>\n",
              "      <td>0</td>\n",
              "      <td>0</td>\n",
              "      <td>0</td>\n",
              "    </tr>\n",
              "    <tr>\n",
              "      <th>...</th>\n",
              "      <td>...</td>\n",
              "      <td>...</td>\n",
              "      <td>...</td>\n",
              "      <td>...</td>\n",
              "      <td>...</td>\n",
              "      <td>...</td>\n",
              "      <td>...</td>\n",
              "      <td>...</td>\n",
              "      <td>...</td>\n",
              "      <td>...</td>\n",
              "      <td>...</td>\n",
              "      <td>...</td>\n",
              "      <td>...</td>\n",
              "      <td>...</td>\n",
              "      <td>...</td>\n",
              "      <td>...</td>\n",
              "      <td>...</td>\n",
              "      <td>...</td>\n",
              "      <td>...</td>\n",
              "      <td>...</td>\n",
              "      <td>...</td>\n",
              "      <td>...</td>\n",
              "      <td>...</td>\n",
              "      <td>...</td>\n",
              "      <td>...</td>\n",
              "      <td>...</td>\n",
              "      <td>...</td>\n",
              "      <td>...</td>\n",
              "      <td>...</td>\n",
              "      <td>...</td>\n",
              "      <td>...</td>\n",
              "      <td>...</td>\n",
              "      <td>...</td>\n",
              "      <td>...</td>\n",
              "      <td>...</td>\n",
              "      <td>...</td>\n",
              "      <td>...</td>\n",
              "      <td>...</td>\n",
              "      <td>...</td>\n",
              "      <td>...</td>\n",
              "      <td>...</td>\n",
              "    </tr>\n",
              "    <tr>\n",
              "      <th>2226556</th>\n",
              "      <td>1385</td>\n",
              "      <td>17</td>\n",
              "      <td>17.0</td>\n",
              "      <td>0</td>\n",
              "      <td>1</td>\n",
              "      <td>1</td>\n",
              "      <td>2</td>\n",
              "      <td>0</td>\n",
              "      <td>4</td>\n",
              "      <td>0</td>\n",
              "      <td>0</td>\n",
              "      <td>480</td>\n",
              "      <td>17</td>\n",
              "      <td>0</td>\n",
              "      <td>6</td>\n",
              "      <td>5</td>\n",
              "      <td>3</td>\n",
              "      <td>3</td>\n",
              "      <td>4</td>\n",
              "      <td>11</td>\n",
              "      <td>0</td>\n",
              "      <td>2</td>\n",
              "      <td>3</td>\n",
              "      <td>2</td>\n",
              "      <td>0</td>\n",
              "      <td>1</td>\n",
              "      <td>0</td>\n",
              "      <td>1</td>\n",
              "      <td>0</td>\n",
              "      <td>1</td>\n",
              "      <td>0</td>\n",
              "      <td>1</td>\n",
              "      <td>1</td>\n",
              "      <td>1</td>\n",
              "      <td>1</td>\n",
              "      <td>4</td>\n",
              "      <td>1</td>\n",
              "      <td>1</td>\n",
              "      <td>1</td>\n",
              "      <td>1</td>\n",
              "      <td>3</td>\n",
              "    </tr>\n",
              "    <tr>\n",
              "      <th>2226557</th>\n",
              "      <td>4756</td>\n",
              "      <td>25</td>\n",
              "      <td>20.0</td>\n",
              "      <td>0</td>\n",
              "      <td>2</td>\n",
              "      <td>1</td>\n",
              "      <td>1</td>\n",
              "      <td>2</td>\n",
              "      <td>1</td>\n",
              "      <td>0</td>\n",
              "      <td>0</td>\n",
              "      <td>1511</td>\n",
              "      <td>25</td>\n",
              "      <td>0</td>\n",
              "      <td>1</td>\n",
              "      <td>5</td>\n",
              "      <td>2</td>\n",
              "      <td>3</td>\n",
              "      <td>4</td>\n",
              "      <td>6</td>\n",
              "      <td>0</td>\n",
              "      <td>1</td>\n",
              "      <td>2</td>\n",
              "      <td>1</td>\n",
              "      <td>0</td>\n",
              "      <td>1</td>\n",
              "      <td>0</td>\n",
              "      <td>0</td>\n",
              "      <td>0</td>\n",
              "      <td>1</td>\n",
              "      <td>0</td>\n",
              "      <td>0</td>\n",
              "      <td>1</td>\n",
              "      <td>1</td>\n",
              "      <td>1</td>\n",
              "      <td>3</td>\n",
              "      <td>1</td>\n",
              "      <td>0</td>\n",
              "      <td>1</td>\n",
              "      <td>0</td>\n",
              "      <td>0</td>\n",
              "    </tr>\n",
              "    <tr>\n",
              "      <th>2226558</th>\n",
              "      <td>572</td>\n",
              "      <td>23</td>\n",
              "      <td>18.0</td>\n",
              "      <td>1</td>\n",
              "      <td>1</td>\n",
              "      <td>1</td>\n",
              "      <td>2</td>\n",
              "      <td>0</td>\n",
              "      <td>2</td>\n",
              "      <td>0</td>\n",
              "      <td>0</td>\n",
              "      <td>212</td>\n",
              "      <td>23</td>\n",
              "      <td>1</td>\n",
              "      <td>2</td>\n",
              "      <td>2</td>\n",
              "      <td>3</td>\n",
              "      <td>1</td>\n",
              "      <td>5</td>\n",
              "      <td>3</td>\n",
              "      <td>0</td>\n",
              "      <td>1</td>\n",
              "      <td>2</td>\n",
              "      <td>1</td>\n",
              "      <td>0</td>\n",
              "      <td>1</td>\n",
              "      <td>0</td>\n",
              "      <td>1</td>\n",
              "      <td>0</td>\n",
              "      <td>1</td>\n",
              "      <td>0</td>\n",
              "      <td>0</td>\n",
              "      <td>1</td>\n",
              "      <td>1</td>\n",
              "      <td>1</td>\n",
              "      <td>3</td>\n",
              "      <td>1</td>\n",
              "      <td>0</td>\n",
              "      <td>1</td>\n",
              "      <td>1</td>\n",
              "      <td>0</td>\n",
              "    </tr>\n",
              "    <tr>\n",
              "      <th>2226559</th>\n",
              "      <td>4756</td>\n",
              "      <td>25</td>\n",
              "      <td>18.0</td>\n",
              "      <td>1</td>\n",
              "      <td>1</td>\n",
              "      <td>1</td>\n",
              "      <td>1</td>\n",
              "      <td>1</td>\n",
              "      <td>1</td>\n",
              "      <td>0</td>\n",
              "      <td>0</td>\n",
              "      <td>1511</td>\n",
              "      <td>25</td>\n",
              "      <td>0</td>\n",
              "      <td>3</td>\n",
              "      <td>2</td>\n",
              "      <td>3</td>\n",
              "      <td>1</td>\n",
              "      <td>2</td>\n",
              "      <td>1</td>\n",
              "      <td>0</td>\n",
              "      <td>1</td>\n",
              "      <td>1</td>\n",
              "      <td>0</td>\n",
              "      <td>0</td>\n",
              "      <td>1</td>\n",
              "      <td>0</td>\n",
              "      <td>1</td>\n",
              "      <td>0</td>\n",
              "      <td>0</td>\n",
              "      <td>0</td>\n",
              "      <td>0</td>\n",
              "      <td>1</td>\n",
              "      <td>0</td>\n",
              "      <td>0</td>\n",
              "      <td>2</td>\n",
              "      <td>0</td>\n",
              "      <td>0</td>\n",
              "      <td>1</td>\n",
              "      <td>0</td>\n",
              "      <td>3</td>\n",
              "    </tr>\n",
              "    <tr>\n",
              "      <th>2226560</th>\n",
              "      <td>2193</td>\n",
              "      <td>10</td>\n",
              "      <td>18.0</td>\n",
              "      <td>0</td>\n",
              "      <td>1</td>\n",
              "      <td>1</td>\n",
              "      <td>2</td>\n",
              "      <td>0</td>\n",
              "      <td>2</td>\n",
              "      <td>0</td>\n",
              "      <td>0</td>\n",
              "      <td>705</td>\n",
              "      <td>10</td>\n",
              "      <td>0</td>\n",
              "      <td>2</td>\n",
              "      <td>2</td>\n",
              "      <td>1</td>\n",
              "      <td>1</td>\n",
              "      <td>4</td>\n",
              "      <td>2</td>\n",
              "      <td>0</td>\n",
              "      <td>1</td>\n",
              "      <td>2</td>\n",
              "      <td>0</td>\n",
              "      <td>0</td>\n",
              "      <td>1</td>\n",
              "      <td>0</td>\n",
              "      <td>0</td>\n",
              "      <td>0</td>\n",
              "      <td>0</td>\n",
              "      <td>0</td>\n",
              "      <td>0</td>\n",
              "      <td>1</td>\n",
              "      <td>0</td>\n",
              "      <td>0</td>\n",
              "      <td>1</td>\n",
              "      <td>0</td>\n",
              "      <td>0</td>\n",
              "      <td>0</td>\n",
              "      <td>1</td>\n",
              "      <td>0</td>\n",
              "    </tr>\n",
              "  </tbody>\n",
              "</table>\n",
              "<p>2226561 rows × 41 columns</p>\n",
              "</div>"
            ],
            "text/plain": [
              "         NO_MUNICIPIO_RESIDENCIA  SG_UF_RESIDENCIA  NU_IDADE  ...  Q025  Q026  Q027\n",
              "0                           4704                 9      23.0  ...     0     0     0\n",
              "1                           2469                14      23.0  ...     1     0     0\n",
              "2                           3432                16      39.0  ...     1     0     0\n",
              "3                           1710                 5      19.0  ...     0     1     0\n",
              "4                           1368                12      25.0  ...     0     0     0\n",
              "...                          ...               ...       ...  ...   ...   ...   ...\n",
              "2226556                     1385                17      17.0  ...     1     1     3\n",
              "2226557                     4756                25      20.0  ...     1     0     0\n",
              "2226558                      572                23      18.0  ...     1     1     0\n",
              "2226559                     4756                25      18.0  ...     1     0     3\n",
              "2226560                     2193                10      18.0  ...     0     1     0\n",
              "\n",
              "[2226561 rows x 41 columns]"
            ]
          },
          "metadata": {
            "tags": []
          },
          "execution_count": 11
        }
      ]
    },
    {
      "cell_type": "markdown",
      "metadata": {
        "id": "oJWhk1wVghZh",
        "colab_type": "text"
      },
      "source": [
        "#Separação das amostras"
      ]
    },
    {
      "cell_type": "code",
      "metadata": {
        "id": "6FBh27PVgQLi",
        "colab_type": "code",
        "colab": {}
      },
      "source": [
        "#Realiza a separação de forma randômica das amostras do DataFrame atribuindo os valores da separação\n",
        "#para as variáveis X_treinamento, X_teste, y_treinamento e y_teste\n",
        "#A função train_test_split admite outros parâmetros inclusive a possibilidade de se determinar o\n",
        "#tamanho da amostra de testes desejada, através do atributo test_size. Exemplo: test_size=0.2 separa 20% da amostra para testes\n",
        "X_treinamento, X_teste, y_treinamento, y_teste = \\\n",
        "    sklearn.model_selection.train_test_split(X, y, random_state=3)"
      ],
      "execution_count": null,
      "outputs": []
    },
    {
      "cell_type": "code",
      "metadata": {
        "id": "q2DTtME6kIGy",
        "colab_type": "code",
        "colab": {
          "base_uri": "https://localhost:8080/",
          "height": 85
        },
        "outputId": "1862cfd7-ff5a-47e5-8e41-2eca39dc2973"
      },
      "source": [
        "#Impressão da dimensionalidade de cada uma das variáveis criadas pela divisão do código anterior\n",
        "print(X_treinamento.shape)\n",
        "print(X_teste.shape)\n",
        "print(y_treinamento.shape)\n",
        "print(y_teste.shape)"
      ],
      "execution_count": null,
      "outputs": [
        {
          "output_type": "stream",
          "text": [
            "(1669920, 41)\n",
            "(556641, 41)\n",
            "(1669920,)\n",
            "(556641,)\n"
          ],
          "name": "stdout"
        }
      ]
    },
    {
      "cell_type": "markdown",
      "metadata": {
        "id": "1xuV4Fmtjek4",
        "colab_type": "text"
      },
      "source": [
        "#Modelos de Classificação Utilizados"
      ]
    },
    {
      "cell_type": "markdown",
      "metadata": {
        "id": "ZgevYbnAGZRS",
        "colab_type": "text"
      },
      "source": [
        "##RandomForestClassifier"
      ]
    },
    {
      "cell_type": "code",
      "metadata": {
        "id": "AC9-uOSp9Cpl",
        "colab_type": "code",
        "colab": {
          "base_uri": "https://localhost:8080/",
          "height": 153
        },
        "outputId": "064ec2ab-fdbc-47e3-9156-ab1586a5e497"
      },
      "source": [
        "# RandomForestClassifier ou Classificador de Florestas Aleatórias\n",
        "# Criará várias árevores de decisão de maneira aleatória\n",
        "# Combina as diferentes árvores criadas para se obter um resultado único.\n",
        "# Parâmetros:\n",
        "#   n_estimators - número de árvores na floresta\n",
        "#   n_jobs - número de tarefas a serem executadas em paralelo. O valor -1 indica o uso de todos os processadores\n",
        "rcf = RandomForestClassifier(n_estimators=12, n_jobs=-1)\n",
        "rcf.fit(X_treinamento, y_treinamento) #treinamento dos dados"
      ],
      "execution_count": null,
      "outputs": [
        {
          "output_type": "execute_result",
          "data": {
            "text/plain": [
              "RandomForestClassifier(bootstrap=True, ccp_alpha=0.0, class_weight=None,\n",
              "                       criterion='gini', max_depth=None, max_features='auto',\n",
              "                       max_leaf_nodes=None, max_samples=None,\n",
              "                       min_impurity_decrease=0.0, min_impurity_split=None,\n",
              "                       min_samples_leaf=1, min_samples_split=2,\n",
              "                       min_weight_fraction_leaf=0.0, n_estimators=12, n_jobs=-1,\n",
              "                       oob_score=False, random_state=None, verbose=0,\n",
              "                       warm_start=False)"
            ]
          },
          "metadata": {
            "tags": []
          },
          "execution_count": 14
        }
      ]
    },
    {
      "cell_type": "code",
      "metadata": {
        "id": "WykKwz-H9PLH",
        "colab_type": "code",
        "colab": {
          "base_uri": "https://localhost:8080/",
          "height": 34
        },
        "outputId": "c1f485db-5a1f-49a8-a86f-7898d6a68d2b"
      },
      "source": [
        "#Retorna a acurácia média dos dados e alvo fornecidos.\n",
        "#6 estimators = 0.6635353845656357\n",
        "#12 estimators = 0.6816745442753948\n",
        "resultado = rcf.score(X_teste, y_teste)\n",
        "resultado"
      ],
      "execution_count": null,
      "outputs": [
        {
          "output_type": "execute_result",
          "data": {
            "text/plain": [
              "0.6816404109650565"
            ]
          },
          "metadata": {
            "tags": []
          },
          "execution_count": 15
        }
      ]
    },
    {
      "cell_type": "code",
      "metadata": {
        "id": "uwFWZsBYDiaZ",
        "colab_type": "code",
        "colab": {
          "base_uri": "https://localhost:8080/",
          "height": 34
        },
        "outputId": "14804d7e-7897-4c9e-a3c2-4de6fb1b2434"
      },
      "source": [
        "#Prediz a classificação para o X (amostra de teste) passada como parâmetro\n",
        "predicao = rcf.predict(X_teste)\n",
        "predicao"
      ],
      "execution_count": null,
      "outputs": [
        {
          "output_type": "execute_result",
          "data": {
            "text/plain": [
              "array([0, 0, 1, ..., 1, 1, 1])"
            ]
          },
          "metadata": {
            "tags": []
          },
          "execution_count": 16
        }
      ]
    },
    {
      "cell_type": "code",
      "metadata": {
        "id": "CsymO74KHbFe",
        "colab_type": "code",
        "colab": {
          "base_uri": "https://localhost:8080/",
          "height": 204
        },
        "outputId": "24c82168-14f0-4f33-9773-52fb1515740a"
      },
      "source": [
        "#Importância de cada atributo, quanto maior o valor, mais importante ele foi considerado para a classificação\n",
        "rcf.feature_importances_"
      ],
      "execution_count": null,
      "outputs": [
        {
          "output_type": "execute_result",
          "data": {
            "text/plain": [
              "array([7.79385653e-02, 4.37267733e-02, 5.35572558e-02, 1.37844747e-02,\n",
              "       2.62475164e-02, 5.37606125e-03, 5.68798916e-03, 2.70347430e-02,\n",
              "       1.20583049e-02, 2.09687181e-03, 3.03643663e-06, 7.70377090e-02,\n",
              "       4.39282628e-02, 1.77621133e-02, 3.81719642e-02, 4.85033092e-02,\n",
              "       3.47362793e-02, 2.79169364e-02, 4.06345116e-02, 6.62309596e-02,\n",
              "       4.61504382e-03, 1.90874141e-02, 2.58177066e-02, 2.55176116e-02,\n",
              "       1.51022429e-02, 5.48629027e-03, 1.34615663e-02, 1.50712127e-02,\n",
              "       7.45876846e-03, 1.36368904e-02, 1.81205670e-03, 1.07520457e-02,\n",
              "       1.89536427e-02, 1.56810311e-02, 1.03241752e-02, 3.15911063e-02,\n",
              "       1.14894833e-02, 3.44637649e-02, 1.56125685e-02, 5.64479893e-03,\n",
              "       3.59869419e-02])"
            ]
          },
          "metadata": {
            "tags": []
          },
          "execution_count": 17
        }
      ]
    },
    {
      "cell_type": "code",
      "metadata": {
        "id": "i7ouvtArECRH",
        "colab_type": "code",
        "colab": {
          "base_uri": "https://localhost:8080/",
          "height": 170
        },
        "outputId": "8b63df3b-f991-49a6-dcee-89d0824262d6"
      },
      "source": [
        "#O classification report (relatório de classificação) traz um resumo das principais métricas para avaliar o problema de classificação\n",
        "#É importante compreender o significado da métrica e do objetivo de negócio para determinar qual a melhor métrica para avaliar o modelo.\n",
        "#precision - proporção de positivos classificados corretamente, ou seja, dos rótulos previstos como positivos, quantos são positivos realmente (rótulo verdadeiro). \n",
        "#recall - proporção de positivos identificados corretamente, ou seja, dos rótulos verdadeiros, quantos são positivos realmente (rótulo verdadeiro).\n",
        "#f1-score - média harmônica entre precision e recall\n",
        "#support - quantidade total de ocorrências de cada um dos rótulos de previsão (0 - Não e 1 - Sim)\n",
        "#accuracy - número de acertos (positivos e negativos [0 e 1)) dividido pela quantidade total de registros\n",
        "print(classification_report(predicao, y_teste))"
      ],
      "execution_count": 30,
      "outputs": [
        {
          "output_type": "stream",
          "text": [
            "              precision    recall  f1-score   support\n",
            "\n",
            "           0       0.76      0.66      0.70    319249\n",
            "           1       0.61      0.71      0.66    237392\n",
            "\n",
            "    accuracy                           0.68    556641\n",
            "   macro avg       0.68      0.69      0.68    556641\n",
            "weighted avg       0.69      0.68      0.68    556641\n",
            "\n"
          ],
          "name": "stdout"
        }
      ]
    },
    {
      "cell_type": "code",
      "metadata": {
        "id": "bYsjLBjxFuXy",
        "colab_type": "code",
        "colab": {
          "base_uri": "https://localhost:8080/",
          "height": 279
        },
        "outputId": "66e302d7-26f6-46e9-aad2-86c932101c6c"
      },
      "source": [
        "#Matriz de confusão (métrica para avaliação/validação) do modelo\n",
        "#Verdadeiros Positivos (VP) - casos em que a previsão indicou que o candidato PASSOU (1) no Enem e realmente PASSOU (1).\n",
        "#Falsos Positivos (FP) - casos em que a previsão indicou que o candidato PASSOU (1) no Enem, mas, na verdade ele NÃO PASSOU (0).\n",
        "#Falsos Negativos (FN) - casos em que a previsão indicou que o candidato NÃO PASSOU (0), mas, na verdade ele PASSOU (1).\n",
        "#Verdadeiros Negativos (VN) - casos em que a previsão indicou que o candidato NÃO PASSOU (0) e realmente ele NÃO PASSOU (0).\n",
        "mat = confusion_matrix(y_teste, predicao)\n",
        "sns.heatmap(mat.T, square=True, annot=True, fmt='d', cbar=False)\n",
        "plt.xlabel('rótulo verdadeiro');\n",
        "plt.ylabel('rótulo previsto');"
      ],
      "execution_count": 31,
      "outputs": [
        {
          "output_type": "display_data",
          "data": {
            "image/png": "[encoded data removed]",
            "text/plain": [
              "<Figure size 432x288 with 1 Axes>"
            ]
          },
          "metadata": {
            "tags": [],
            "needs_background": "light"
          }
        }
      ]
    },
    {
      "cell_type": "markdown",
      "metadata": {
        "id": "LZfiDLBULadT",
        "colab_type": "text"
      },
      "source": [
        "##MultinomialNB"
      ]
    },
    {
      "cell_type": "code",
      "metadata": {
        "id": "LxS7msblnge6",
        "colab_type": "code",
        "colab": {
          "base_uri": "https://localhost:8080/",
          "height": 34
        },
        "outputId": "4b99ae95-c9a8-4700-8f64-7ac91e2e2a34"
      },
      "source": [
        "mnb = MultinomialNB()\n",
        "mnb.fit(X_treinamento, y_treinamento) #treinamento dos dados"
      ],
      "execution_count": 32,
      "outputs": [
        {
          "output_type": "execute_result",
          "data": {
            "text/plain": [
              "MultinomialNB(alpha=1.0, class_prior=None, fit_prior=True)"
            ]
          },
          "metadata": {
            "tags": []
          },
          "execution_count": 32
        }
      ]
    },
    {
      "cell_type": "code",
      "metadata": {
        "id": "hfsU2gFDxwz9",
        "colab_type": "code",
        "colab": {
          "base_uri": "https://localhost:8080/",
          "height": 34
        },
        "outputId": "978ea11b-fecb-4e3e-ec2f-128473b0df01"
      },
      "source": [
        "#Retorna a acurácia média dos dados e alvo fornecidos.\n",
        "resultadomnb = mnb.score(X_teste, y_teste)\n",
        "resultadomnb"
      ],
      "execution_count": 33,
      "outputs": [
        {
          "output_type": "execute_result",
          "data": {
            "text/plain": [
              "0.6321596864047025"
            ]
          },
          "metadata": {
            "tags": []
          },
          "execution_count": 33
        }
      ]
    },
    {
      "cell_type": "code",
      "metadata": {
        "id": "FG13ZK-JKlWe",
        "colab_type": "code",
        "colab": {
          "base_uri": "https://localhost:8080/",
          "height": 34
        },
        "outputId": "40b305db-be8b-400a-8e6f-07a02d865c02"
      },
      "source": [
        "#Prediz a classificação para o X (amostra de teste) passada como parâmetro\n",
        "predicaomnb = mnb.predict(X_teste)\n",
        "predicaomnb"
      ],
      "execution_count": 34,
      "outputs": [
        {
          "output_type": "execute_result",
          "data": {
            "text/plain": [
              "array([0, 0, 1, ..., 0, 1, 1])"
            ]
          },
          "metadata": {
            "tags": []
          },
          "execution_count": 34
        }
      ]
    },
    {
      "cell_type": "code",
      "metadata": {
        "id": "kBSg0FfzK9nj",
        "colab_type": "code",
        "colab": {
          "base_uri": "https://localhost:8080/",
          "height": 170
        },
        "outputId": "d7a26b63-3a0c-4beb-89ec-a982d5a3d4d5"
      },
      "source": [
        "#O classification report (relatório de classificação) traz um resumo das principais métricas para avaliar o problema de classificação\n",
        "#É importante compreender o significado da métrica e do objetivo de negócio para determinar qual a melhor métrica para avaliar o modelo.\n",
        "#precision - proporção de positivos classificados corretamente, ou seja, dos rótulos previstos como positivos, quantos são positivos realmente (rótulo verdadeiro). \n",
        "#recall - proporção de positivos identificados corretamente, ou seja, dos rótulos verdadeiros, quantos são positivos realmente (rótulo verdadeiro).\n",
        "#f1-score - média harmônica entre precision e recall\n",
        "#support - quantidade total de ocorrências de cada um dos rótulos de previsão (0 - Não e 1 - Sim)\n",
        "#accuracy - número de acertos (positivos e negativos [0 e 1)) dividido pela quantidade total de registros\n",
        "print(classification_report(predicaomnb, y_teste))"
      ],
      "execution_count": 39,
      "outputs": [
        {
          "output_type": "stream",
          "text": [
            "              precision    recall  f1-score   support\n",
            "\n",
            "           0       0.67      0.62      0.64    297562\n",
            "           1       0.60      0.64      0.62    259079\n",
            "\n",
            "    accuracy                           0.63    556641\n",
            "   macro avg       0.63      0.63      0.63    556641\n",
            "weighted avg       0.63      0.63      0.63    556641\n",
            "\n"
          ],
          "name": "stdout"
        }
      ]
    },
    {
      "cell_type": "code",
      "metadata": {
        "id": "5j_TOdunLQE1",
        "colab_type": "code",
        "colab": {
          "base_uri": "https://localhost:8080/",
          "height": 279
        },
        "outputId": "8e9ebab9-e1ec-4f74-a9c2-f27afdbd6c05"
      },
      "source": [
        "#Matriz de confusão (métrica para avaliação/validação) do modelo\n",
        "#Verdadeiros Positivos (VP) - casos em que a previsão indicou que o candidato PASSOU (1) no Enem e realmente PASSOU (1).\n",
        "#Falsos Positivos (FP) - casos em que a previsão indicou que o candidato PASSOU (1) no Enem, mas, na verdade ele NÃO PASSOU (0).\n",
        "#Falsos Negativos (FN) - casos em que a previsão indicou que o candidato NÃO PASSOU (0), mas, na verdade ele PASSOU (1).\n",
        "#Verdadeiros Negativos (VN) - casos em que a previsão indicou que o candidato NÃO PASSOU (0) e realmente ele NÃO PASSOU (0).\n",
        "mat = confusion_matrix(y_teste, predicaomnb)\n",
        "sns.heatmap(mat.T, square=True, annot=True, fmt='d', cbar=False)\n",
        "plt.xlabel('rótulo verdadeiro');\n",
        "plt.ylabel('rótulo previsto');"
      ],
      "execution_count": 40,
      "outputs": [
        {
          "output_type": "display_data",
          "data": {
            "image/png": "[encoded data removed]",
            "text/plain": [
              "<Figure size 432x288 with 1 Axes>"
            ]
          },
          "metadata": {
            "tags": [],
            "needs_background": "light"
          }
        }
      ]
    },
    {
      "cell_type": "markdown",
      "metadata": {
        "id": "rz0CgSf_LfvB",
        "colab_type": "text"
      },
      "source": [
        "##DummyClassifier"
      ]
    },
    {
      "cell_type": "code",
      "metadata": {
        "id": "M55Gtom3kPRK",
        "colab_type": "code",
        "colab": {
          "base_uri": "https://localhost:8080/",
          "height": 68
        },
        "outputId": "50b90586-008b-4453-d386-de3fceda9893"
      },
      "source": [
        "dc = DummyClassifier()\n",
        "dc.fit(X_treinamento, y_treinamento)  #treinamento dos dados"
      ],
      "execution_count": 41,
      "outputs": [
        {
          "output_type": "stream",
          "text": [
            "/usr/local/lib/python3.6/dist-packages/sklearn/dummy.py:132: FutureWarning: The default value of strategy will change from stratified to prior in 0.24.\n",
            "  \"stratified to prior in 0.24.\", FutureWarning)\n"
          ],
          "name": "stderr"
        },
        {
          "output_type": "execute_result",
          "data": {
            "text/plain": [
              "DummyClassifier(constant=None, random_state=None, strategy='warn')"
            ]
          },
          "metadata": {
            "tags": []
          },
          "execution_count": 41
        }
      ]
    },
    {
      "cell_type": "code",
      "metadata": {
        "id": "I4LteRRamCdJ",
        "colab_type": "code",
        "colab": {
          "base_uri": "https://localhost:8080/",
          "height": 34
        },
        "outputId": "09318655-e1c6-4d26-8468-5721a8a79203"
      },
      "source": [
        "#Retorna a acurácia média dos dados e alvo fornecidos.\n",
        "resultadodc = dc.score(X_teste, y_teste)\n",
        "resultadodc"
      ],
      "execution_count": 42,
      "outputs": [
        {
          "output_type": "execute_result",
          "data": {
            "text/plain": [
              "0.4997727440127479"
            ]
          },
          "metadata": {
            "tags": []
          },
          "execution_count": 42
        }
      ]
    },
    {
      "cell_type": "code",
      "metadata": {
        "id": "-oe83U9tL1HI",
        "colab_type": "code",
        "colab": {
          "base_uri": "https://localhost:8080/",
          "height": 34
        },
        "outputId": "6f751e17-6d88-4493-c2a4-a15ffa951ca9"
      },
      "source": [
        "#Prediz a classificação para o X (amostra de teste) passada como parâmetro\n",
        "predicaodc = dc.predict(X_teste)\n",
        "predicaodc"
      ],
      "execution_count": 43,
      "outputs": [
        {
          "output_type": "execute_result",
          "data": {
            "text/plain": [
              "array([1, 1, 1, ..., 0, 1, 0])"
            ]
          },
          "metadata": {
            "tags": []
          },
          "execution_count": 43
        }
      ]
    },
    {
      "cell_type": "code",
      "metadata": {
        "id": "vFqQ1ULSL9Bq",
        "colab_type": "code",
        "colab": {
          "base_uri": "https://localhost:8080/",
          "height": 170
        },
        "outputId": "da13c155-03e4-4188-fc9e-33a979c8a863"
      },
      "source": [
        "#O classification report (relatório de classificação) traz um resumo das principais métricas para avaliar o problema de classificação\n",
        "#É importante compreender o significado da métrica e do objetivo de negócio para determinar qual a melhor métrica para avaliar o modelo.\n",
        "#precision - proporção de positivos classificados corretamente, ou seja, dos rótulos previstos como positivos, quantos são positivos realmente (rótulo verdadeiro). \n",
        "#recall - proporção de positivos identificados corretamente, ou seja, dos rótulos verdadeiros, quantos são positivos realmente (rótulo verdadeiro).\n",
        "#f1-score - média harmônica entre precision e recall\n",
        "#support - quantidade total de ocorrências de cada um dos rótulos de previsão (0 - Não e 1 - Sim)\n",
        "#accuracy - número de acertos (positivos e negativos [0 e 1)) dividido pela quantidade total de registros\n",
        "print(classification_report(predicaodc, y_teste))"
      ],
      "execution_count": 45,
      "outputs": [
        {
          "output_type": "stream",
          "text": [
            "              precision    recall  f1-score   support\n",
            "\n",
            "           0       0.50      0.50      0.50    278391\n",
            "           1       0.50      0.50      0.50    278250\n",
            "\n",
            "    accuracy                           0.50    556641\n",
            "   macro avg       0.50      0.50      0.50    556641\n",
            "weighted avg       0.50      0.50      0.50    556641\n",
            "\n"
          ],
          "name": "stdout"
        }
      ]
    },
    {
      "cell_type": "code",
      "metadata": {
        "id": "2Dn4mRrsMFIz",
        "colab_type": "code",
        "colab": {
          "base_uri": "https://localhost:8080/",
          "height": 279
        },
        "outputId": "58967c10-eff1-4ce6-8b55-567fb48e2295"
      },
      "source": [
        "#Matriz de confusão (métrica para avaliação/validação) do modelo\n",
        "#Verdadeiros Positivos (VP) - casos em que a previsão indicou que o candidato PASSOU (1) no Enem e realmente PASSOU (1).\n",
        "#Falsos Positivos (FP) - casos em que a previsão indicou que o candidato PASSOU (1) no Enem, mas, na verdade ele NÃO PASSOU (0).\n",
        "#Falsos Negativos (FN) - casos em que a previsão indicou que o candidato NÃO PASSOU (0), mas, na verdade ele PASSOU (1).\n",
        "#Verdadeiros Negativos (VN) - casos em que a previsão indicou que o candidato NÃO PASSOU (0) e realmente ele NÃO PASSOU (0).\n",
        "mat = confusion_matrix(y_teste, predicaodc)\n",
        "sns.heatmap(mat.T, square=True, annot=True, fmt='d', cbar=False)\n",
        "plt.xlabel('rótulo verdadeiro');\n",
        "plt.ylabel('rótulo previsto');"
      ],
      "execution_count": 46,
      "outputs": [
        {
          "output_type": "display_data",
          "data": {
            "image/png": "[encoded data removed]",
            "text/plain": [
              "<Figure size 432x288 with 1 Axes>"
            ]
          },
          "metadata": {
            "tags": [],
            "needs_background": "light"
          }
        }
      ]
    },
    {
      "cell_type": "markdown",
      "metadata": {
        "id": "zcMCThQ9MKsS",
        "colab_type": "text"
      },
      "source": [
        "##KNeighborsClassifier"
      ]
    },
    {
      "cell_type": "code",
      "metadata": {
        "id": "ZC7C22jTmOUZ",
        "colab_type": "code",
        "colab": {
          "base_uri": "https://localhost:8080/",
          "height": 68
        },
        "outputId": "b540c019-035b-4377-e8d3-27c8342470e6"
      },
      "source": [
        "knn = KNeighborsClassifier(n_neighbors = 1)\n",
        "knn.fit(X_treinamento, y_treinamento) #treinamento dos dados"
      ],
      "execution_count": 47,
      "outputs": [
        {
          "output_type": "execute_result",
          "data": {
            "text/plain": [
              "KNeighborsClassifier(algorithm='auto', leaf_size=30, metric='minkowski',\n",
              "                     metric_params=None, n_jobs=None, n_neighbors=1, p=2,\n",
              "                     weights='uniform')"
            ]
          },
          "metadata": {
            "tags": []
          },
          "execution_count": 47
        }
      ]
    },
    {
      "cell_type": "code",
      "metadata": {
        "id": "tRst-ZvBmUG9",
        "colab_type": "code",
        "colab": {
          "base_uri": "https://localhost:8080/",
          "height": 34
        },
        "outputId": "9e45832d-df1a-40e8-bc3e-f61ae94cbebf"
      },
      "source": [
        "#Retorna a acurácia média dos dados e alvo fornecidos.\n",
        "resultadoknn = knn.score(X_teste, y_teste)\n",
        "resultadoknn"
      ],
      "execution_count": 48,
      "outputs": [
        {
          "output_type": "execute_result",
          "data": {
            "text/plain": [
              "0.6195698843599375"
            ]
          },
          "metadata": {
            "tags": []
          },
          "execution_count": 48
        }
      ]
    },
    {
      "cell_type": "code",
      "metadata": {
        "id": "4aj3jZTlMmJM",
        "colab_type": "code",
        "colab": {
          "base_uri": "https://localhost:8080/"
        },
        "outputId": "96b1bec2-42b9-483b-ece4-382b53d2817a"
      },
      "source": [
        "#Prediz a classificação para o X (amostra de teste) passada como parâmetro\n",
        "predicaoknn = knn.predict(X_teste)\n",
        "predicaoknn"
      ],
      "execution_count": null,
      "outputs": [
        {
          "output_type": "execute_result",
          "data": {
            "text/plain": [
              "array([0, 1, 1, ..., 0, 1, 1])"
            ]
          },
          "metadata": {
            "tags": []
          },
          "execution_count": 50
        }
      ]
    },
    {
      "cell_type": "code",
      "metadata": {
        "id": "q1Dzl1VkMt8B",
        "colab_type": "code",
        "colab": {
          "base_uri": "https://localhost:8080/"
        },
        "outputId": "aa183ec8-ab51-4bb8-b803-341d0fe6d932"
      },
      "source": [
        "#O classification report (relatório de classificação) traz um resumo das principais métricas para avaliar o problema de classificação\n",
        "#É importante compreender o significado da métrica e do objetivo de negócio para determinar qual a melhor métrica para avaliar o modelo.\n",
        "#precision - proporção de positivos classificados corretamente, ou seja, dos rótulos previstos como positivos, quantos são positivos realmente (rótulo verdadeiro). \n",
        "#recall - proporção de positivos identificados corretamente, ou seja, dos rótulos verdadeiros, quantos são positivos realmente (rótulo verdadeiro).\n",
        "#f1-score - média harmônica entre precision e recall\n",
        "#support - quantidade total de ocorrências de cada um dos rótulos de previsão (0 - Não e 1 - Sim)\n",
        "#accuracy - número de acertos (positivos e negativos [0 e 1)) dividido pela quantidade total de registros\n",
        "print(metrics.classification_report(predicaoknn, y_teste))"
      ],
      "execution_count": null,
      "outputs": [
        {
          "output_type": "stream",
          "text": [
            "              precision    recall  f1-score   support\n",
            "\n",
            "           0       0.62      0.62      0.62    277289\n",
            "           1       0.62      0.62      0.62    279352\n",
            "\n",
            "    accuracy                           0.62    556641\n",
            "   macro avg       0.62      0.62      0.62    556641\n",
            "weighted avg       0.62      0.62      0.62    556641\n",
            "\n"
          ],
          "name": "stdout"
        }
      ]
    },
    {
      "cell_type": "code",
      "metadata": {
        "id": "WVrrfprTTyuB",
        "colab_type": "code",
        "colab": {
          "base_uri": "https://localhost:8080/"
        },
        "outputId": "f97f46d5-f7f5-4bbc-dc2e-a60e1d567fa0"
      },
      "source": [
        "#Matriz de confusão (métrica para avaliação/validação) do modelo\n",
        "#Verdadeiros Positivos (VP) - casos em que a previsão indicou que o candidato PASSOU (1) no Enem e realmente PASSOU (1).\n",
        "#Falsos Positivos (FP) - casos em que a previsão indicou que o candidato PASSOU (1) no Enem, mas, na verdade ele NÃO PASSOU (0).\n",
        "#Falsos Negativos (FN) - casos em que a previsão indicou que o candidato NÃO PASSOU (0), mas, na verdade ele PASSOU (1).\n",
        "#Verdadeiros Negativos (VN) - casos em que a previsão indicou que o candidato NÃO PASSOU (0) e realmente ele NÃO PASSOU (0).\n",
        "mat = confusion_matrix(y_teste, predicaoknn)\n",
        "sns.heatmap(mat.T, square=True, annot=True, fmt='d', cbar=False)\n",
        "plt.xlabel('rótulo verdadeiro');\n",
        "plt.ylabel('rótulo previsto');"
      ],
      "execution_count": null,
      "outputs": [
        {
          "output_type": "display_data",
          "data": {
            "image/png": "[encoded data removed]",
            "text/plain": [
              "<Figure size 432x288 with 1 Axes>"
            ]
          },
          "metadata": {
            "tags": [],
            "needs_background": "light"
          }
        }
      ]
    },
    {
      "cell_type": "code",
      "metadata": {
        "colab_type": "code",
        "id": "iKQNcue3T3a7",
        "colab": {
          "base_uri": "https://localhost:8080/",
          "height": 170
        },
        "outputId": "aa183ec8-ab51-4bb8-b803-341d0fe6d932"
      },
      "source": [
        "print(classification_report(predicaoknn, y_teste))"
      ],
      "execution_count": null,
      "outputs": [
        {
          "output_type": "stream",
          "text": [
            "              precision    recall  f1-score   support\n",
            "\n",
            "           0       0.62      0.62      0.62    277289\n",
            "           1       0.62      0.62      0.62    279352\n",
            "\n",
            "    accuracy                           0.62    556641\n",
            "   macro avg       0.62      0.62      0.62    556641\n",
            "weighted avg       0.62      0.62      0.62    556641\n",
            "\n"
          ],
          "name": "stdout"
        }
      ]
    },
    {
      "cell_type": "markdown",
      "metadata": {
        "id": "kpDbR6JsMxGO",
        "colab_type": "text"
      },
      "source": [
        "##AdaBoostClassifier"
      ]
    },
    {
      "cell_type": "code",
      "metadata": {
        "id": "pRWug3qc13Ff",
        "colab_type": "code",
        "colab": {
          "base_uri": "https://localhost:8080/"
        },
        "outputId": "d8fc8f3b-56c9-4f96-9624-29bf2314a750"
      },
      "source": [
        "abc = AdaBoostClassifier()\n",
        "abc.fit(X_treinamento, y_treinamento) #treinamento dos dados"
      ],
      "execution_count": null,
      "outputs": [
        {
          "output_type": "execute_result",
          "data": {
            "text/plain": [
              "AdaBoostClassifier()"
            ]
          },
          "metadata": {
            "tags": []
          },
          "execution_count": 57
        }
      ]
    },
    {
      "cell_type": "code",
      "metadata": {
        "id": "v-VNecTP2Gnc",
        "colab_type": "code",
        "colab": {
          "base_uri": "https://localhost:8080/"
        },
        "outputId": "51d47b95-16e6-43ed-dcf7-ddbad9489af4"
      },
      "source": [
        "#Retorna a acurácia média dos dados e alvo fornecidos.\n",
        "resultadoabc = abc.score(X_teste, y_teste)\n",
        "resultadoabc"
      ],
      "execution_count": null,
      "outputs": [
        {
          "output_type": "execute_result",
          "data": {
            "text/plain": [
              "0.7026000600027666"
            ]
          },
          "metadata": {
            "tags": []
          },
          "execution_count": 58
        }
      ]
    },
    {
      "cell_type": "code",
      "metadata": {
        "id": "jV9P9L4XZeYt",
        "colab_type": "code",
        "colab": {
          "base_uri": "https://localhost:8080/"
        },
        "outputId": "a67fe8f2-62e2-44f9-ef1b-7ff951740667"
      },
      "source": [
        "#Prediz a classificação para o X (amostra de teste) passada como parâmetro\n",
        "predicaoabc = abc.predict(X_teste)\n",
        "predicaoabc"
      ],
      "execution_count": null,
      "outputs": [
        {
          "output_type": "execute_result",
          "data": {
            "text/plain": [
              "array([0, 1, 1, ..., 0, 1, 1])"
            ]
          },
          "metadata": {
            "tags": []
          },
          "execution_count": 59
        }
      ]
    },
    {
      "cell_type": "code",
      "metadata": {
        "id": "X7aYIA1dZng-",
        "colab_type": "code",
        "colab": {
          "base_uri": "https://localhost:8080/"
        },
        "outputId": "685f412c-1c2a-4b1b-ac51-962cdf2c7e02"
      },
      "source": [
        "#O classification report (relatório de classificação) traz um resumo das principais métricas para avaliar o problema de classificação\n",
        "#É importante compreender o significado da métrica e do objetivo de negócio para determinar qual a melhor métrica para avaliar o modelo.\n",
        "#precision - proporção de positivos classificados corretamente, ou seja, dos rótulos previstos como positivos, quantos são positivos realmente (rótulo verdadeiro). \n",
        "#recall - proporção de positivos identificados corretamente, ou seja, dos rótulos verdadeiros, quantos são positivos realmente (rótulo verdadeiro).\n",
        "#f1-score - média harmônica entre precision e recall\n",
        "#support - quantidade total de ocorrências de cada um dos rótulos de previsão (0 - Não e 1 - Sim)\n",
        "#accuracy - número de acertos (positivos e negativos [0 e 1)) dividido pela quantidade total de registros\n",
        "print(classification_report(predicaoabc, y_teste))"
      ],
      "execution_count": null,
      "outputs": [
        {
          "output_type": "stream",
          "text": [
            "              precision    recall  f1-score   support\n",
            "\n",
            "           0       0.74      0.69      0.71    298147\n",
            "           1       0.67      0.72      0.69    258494\n",
            "\n",
            "    accuracy                           0.70    556641\n",
            "   macro avg       0.70      0.70      0.70    556641\n",
            "weighted avg       0.71      0.70      0.70    556641\n",
            "\n"
          ],
          "name": "stdout"
        }
      ]
    },
    {
      "cell_type": "code",
      "metadata": {
        "id": "GKPHy40abWxU",
        "colab_type": "code",
        "colab": {
          "base_uri": "https://localhost:8080/"
        },
        "outputId": "3c761a16-a0e5-4a13-de1a-a080c84cb825"
      },
      "source": [
        "mat = confusion_matrix(y_teste, predicaoknn)\n",
        "sns.heatmap(mat.T, square=True, annot=True, fmt='d', cbar=False)\n",
        "plt.xlabel('rótulo verdadeiro');\n",
        "plt.ylabel('rótulo previsto');"
      ],
      "execution_count": null,
      "outputs": [
        {
          "output_type": "display_data",
          "data": {
            "image/png": "[encoded data removed]",
            "text/plain": [
              "<Figure size 432x288 with 1 Axes>"
            ]
          },
          "metadata": {
            "tags": [],
            "needs_background": "light"
          }
        }
      ]
    },
    {
      "cell_type": "markdown",
      "metadata": {
        "id": "CslVsPcthX9K",
        "colab_type": "text"
      },
      "source": [
        "##Curva ROC de todos os Modelos"
      ]
    },
    {
      "cell_type": "code",
      "metadata": {
        "id": "1g7J6w_wgTYV",
        "colab_type": "code",
        "colab": {
          "base_uri": "https://localhost:8080/"
        },
        "outputId": "338b557f-e6bb-4ecc-a863-8ecd41eaed35"
      },
      "source": [
        "plt.figure(figsize=(12,12)).clf()\n",
        "\n",
        "fpr, tpr, thresh = metrics.roc_curve(y_teste, predicao)\n",
        "auc = metrics.roc_auc_score(y_teste, predicao)\n",
        "plt.plot(fpr,tpr,label=\"RandomForestClassifier, auc=\"+str(auc))\n",
        "\n",
        "fpr, tpr, thresh = metrics.roc_curve(y_teste, predicaomnb)\n",
        "auc = metrics.roc_auc_score(y_teste, predicaomnb)\n",
        "plt.plot(fpr,tpr,label=\"RandomForestClassifier, auc=\"+str(auc))\n",
        "\n",
        "fpr, tpr, thresh = metrics.roc_curve(y_teste, predicaodc)\n",
        "auc = metrics.roc_auc_score(y_teste, predicaodc)\n",
        "plt.plot(fpr,tpr,label=\"DummyClassifier, auc=\"+str(auc))\n",
        "\n",
        "fpr, tpr, thresh = metrics.roc_curve(y_teste, predicaoknn)\n",
        "auc = metrics.roc_auc_score(y_teste, predicaoknn)\n",
        "plt.plot(fpr,tpr,label=\"KNeighborsClassifier, auc=\"+str(auc))\n",
        "\n",
        "fpr, tpr, thresh = metrics.roc_curve(y_teste, predicaoabc)\n",
        "auc = metrics.roc_auc_score(y_teste, predicaoabc)\n",
        "plt.plot(fpr,tpr,label=\"AdaBoostClassifier, auc=\"+str(auc))\n",
        "\n",
        "plt.legend(loc=0)"
      ],
      "execution_count": null,
      "outputs": [
        {
          "output_type": "execute_result",
          "data": {
            "text/plain": [
              "<matplotlib.legend.Legend at 0x7f66135b59e8>"
            ]
          },
          "metadata": {
            "tags": []
          },
          "execution_count": 71
        },
        {
          "output_type": "display_data",
          "data": {
            "image/png": "[encoded data removed]",
            "text/plain": [
              "<Figure size 864x864 with 1 Axes>"
            ]
          },
          "metadata": {
            "tags": [],
            "needs_background": "light"
          }
        }
      ]
    }
  ]
}